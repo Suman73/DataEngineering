{
  "nbformat": 4,
  "nbformat_minor": 0,
  "metadata": {
    "colab": {
      "provenance": [],
      "authorship_tag": "ABX9TyMzsxzV1waMp8U8Z5CEigda",
      "include_colab_link": true
    },
    "kernelspec": {
      "name": "python3",
      "display_name": "Python 3"
    },
    "language_info": {
      "name": "python"
    }
  },
  "cells": [
    {
      "cell_type": "markdown",
      "metadata": {
        "id": "view-in-github",
        "colab_type": "text"
      },
      "source": [
        "<a href=\"https://colab.research.google.com/github/Suman73/DataEngineering/blob/main/sk.ipynb\" target=\"_parent\"><img src=\"https://colab.research.google.com/assets/colab-badge.svg\" alt=\"Open In Colab\"/></a>"
      ]
    },
    {
      "cell_type": "code",
      "execution_count": null,
      "metadata": {
        "colab": {
          "base_uri": "https://localhost:8080/"
        },
        "id": "nyqoX6qYXx8H",
        "outputId": "51f27727-eb4c-409c-ca17-7ef7f81457c5"
      },
      "outputs": [
        {
          "output_type": "stream",
          "name": "stdout",
          "text": [
            "Mounted at /content/drive\n"
          ]
        }
      ],
      "source": [
        "from google.colab import drive\n",
        "drive.mount('/content/drive')"
      ]
    },
    {
      "cell_type": "code",
      "source": [
        "!pip install pyspark"
      ],
      "metadata": {
        "colab": {
          "base_uri": "https://localhost:8080/"
        },
        "id": "KSBoij4vYRyi",
        "outputId": "bcf6ef7f-bc4d-4e2d-ff8e-7ccbd5727d09"
      },
      "execution_count": null,
      "outputs": [
        {
          "output_type": "stream",
          "name": "stdout",
          "text": [
            "Collecting pyspark\n",
            "  Downloading pyspark-3.4.1.tar.gz (310.8 MB)\n",
            "\u001b[2K     \u001b[90m━━━━━━━━━━━━━━━━━━━━━━━━━━━━━━━━━━━━━━━\u001b[0m \u001b[32m310.8/310.8 MB\u001b[0m \u001b[31m3.9 MB/s\u001b[0m eta \u001b[36m0:00:00\u001b[0m\n",
            "\u001b[?25h  Preparing metadata (setup.py) ... \u001b[?25l\u001b[?25hdone\n",
            "Requirement already satisfied: py4j==0.10.9.7 in /usr/local/lib/python3.10/dist-packages (from pyspark) (0.10.9.7)\n",
            "Building wheels for collected packages: pyspark\n",
            "  Building wheel for pyspark (setup.py) ... \u001b[?25l\u001b[?25hdone\n",
            "  Created wheel for pyspark: filename=pyspark-3.4.1-py2.py3-none-any.whl size=311285387 sha256=da1b2236983421b6de4a84d8b7114fd027c591c9b276d385fa62ae2f1d4903f9\n",
            "  Stored in directory: /root/.cache/pip/wheels/0d/77/a3/ff2f74cc9ab41f8f594dabf0579c2a7c6de920d584206e0834\n",
            "Successfully built pyspark\n",
            "Installing collected packages: pyspark\n",
            "Successfully installed pyspark-3.4.1\n"
          ]
        }
      ]
    },
    {
      "cell_type": "code",
      "source": [
        "#from pyspark.sql import SparkSession\n",
        "from pyspark.sql import *\n",
        "\n",
        "\n",
        "spark = SparkSession.builder\\\n",
        "        .master(\"local\")\\\n",
        "        .appName(\"Colab\")\\\n",
        "        .config('spark.ui.port', '4050')\\\n",
        "        .getOrCreate()"
      ],
      "metadata": {
        "id": "hHQfUUusYXE8"
      },
      "execution_count": null,
      "outputs": []
    },
    {
      "cell_type": "code",
      "source": [
        "spark"
      ],
      "metadata": {
        "id": "gC7K6tgZYli8",
        "outputId": "ed111e75-92cb-4beb-cbc3-bda5ac7173d9",
        "colab": {
          "base_uri": "https://localhost:8080/",
          "height": 219
        }
      },
      "execution_count": null,
      "outputs": [
        {
          "output_type": "execute_result",
          "data": {
            "text/plain": [
              "<pyspark.sql.session.SparkSession at 0x79b0800e9e10>"
            ],
            "text/html": [
              "\n",
              "            <div>\n",
              "                <p><b>SparkSession - in-memory</b></p>\n",
              "                \n",
              "        <div>\n",
              "            <p><b>SparkContext</b></p>\n",
              "\n",
              "            <p><a href=\"http://7c1e9f3e7f0d:4050\">Spark UI</a></p>\n",
              "\n",
              "            <dl>\n",
              "              <dt>Version</dt>\n",
              "                <dd><code>v3.4.1</code></dd>\n",
              "              <dt>Master</dt>\n",
              "                <dd><code>local</code></dd>\n",
              "              <dt>AppName</dt>\n",
              "                <dd><code>Colab</code></dd>\n",
              "            </dl>\n",
              "        </div>\n",
              "        \n",
              "            </div>\n",
              "        "
            ]
          },
          "metadata": {},
          "execution_count": 4
        }
      ]
    },
    {
      "cell_type": "code",
      "source": [
        "surveydf = load_survey_df(spark, data_file)"
      ],
      "metadata": {
        "id": "7g5PSD4sgqL8"
      },
      "execution_count": null,
      "outputs": []
    },
    {
      "cell_type": "code",
      "source": [
        "df.show(10)"
      ],
      "metadata": {
        "colab": {
          "base_uri": "https://localhost:8080/"
        },
        "id": "kt_KLNpBhqsx",
        "outputId": "8c1ff8dc-8399-45e0-dcc1-a4b8334a2ec8"
      },
      "execution_count": null,
      "outputs": [
        {
          "output_type": "stream",
          "name": "stdout",
          "text": [
            "+----------+-----------+-----------+-----------+-----------+-----------+--------+\n",
            "|      Date|       Open|       High|        Low|      Close|  Adj Close|  Volume|\n",
            "+----------+-----------+-----------+-----------+-----------+-----------+--------+\n",
            "|2021-04-12|1177.400024|1177.400024|1061.400024|1074.400024|1073.687378|13690016|\n",
            "|2021-04-13|1077.000000|1116.300049|1051.050049|1106.349976|1105.616089|12137329|\n",
            "|2021-04-15|1095.000000|1144.900024|1081.349976|1129.949951|1129.200439| 9350889|\n",
            "|2021-04-16|1130.000000|1192.000000|1112.000000|1159.000000|1158.231201|10661068|\n",
            "|2021-04-19|1100.000000|1153.000000|1089.000000|1136.349976|1135.596191| 8565063|\n",
            "|2021-04-20|1156.849976|1177.699951|1125.050049|1142.750000|1141.991943| 8261172|\n",
            "|2021-04-22|1134.000000|1169.000000|1123.000000|1157.800049|1157.031982| 7124786|\n",
            "|2021-04-23|1161.000000|1182.900024|1145.650024|1157.599976|1156.832153| 6167151|\n",
            "|2021-04-26|1160.000000|1197.900024|1160.000000|1173.349976|1172.571655| 6939823|\n",
            "|2021-04-27|1184.699951|1213.500000|1181.000000|1191.150024|1190.359863| 7109421|\n",
            "+----------+-----------+-----------+-----------+-----------+-----------+--------+\n",
            "only showing top 10 rows\n",
            "\n"
          ]
        }
      ]
    }
  ]
}